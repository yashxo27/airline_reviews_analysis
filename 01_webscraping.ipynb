{
  "cells": [
    {
      "cell_type": "markdown",
      "source": [
        "Libraries used for webscraping:\n",
        "* Requests\n",
        "* BeautifulSoup\n",
        "* Pandas\n",
        "* Re"
      ],
      "metadata": {
        "id": "flIsDZKhiqjw"
      }
    },
    {
      "cell_type": "code",
      "execution_count": null,
      "metadata": {
        "id": "4ex-gXkq90Ep"
      },
      "outputs": [],
      "source": [
        "import requests\n",
        "from bs4 import BeautifulSoup\n",
        "import pandas as pd\n",
        "import re"
      ]
    },
    {
      "cell_type": "markdown",
      "source": [
        "Importing url of the British Airways Airline Reviews on airlineequality.com where the page display latest 1000 reviews"
      ],
      "metadata": {
        "id": "jdBBnRGGi8mB"
      }
    },
    {
      "cell_type": "code",
      "execution_count": null,
      "metadata": {
        "id": "66VI-g-i9_8z"
      },
      "outputs": [],
      "source": [
        "base_url=\"https://www.airlinequality.com/airline-reviews/british-airways\"\n",
        "page_size=1000\n",
        "url=f\"{base_url}/page/1/?sortby=post_date%3ADesc&pagesize={page_size}/\""
      ]
    },
    {
      "cell_type": "markdown",
      "source": [
        "Parsing:\n",
        "* Review Texts\n",
        "* Flight Details\n",
        "* Star Ratings\n",
        "\n"
      ],
      "metadata": {
        "id": "T6TAs4ayjaYB"
      }
    },
    {
      "cell_type": "code",
      "source": [
        "response=requests.get(url)\n",
        "content=response.content\n",
        "parsed_content=BeautifulSoup(content,\"html.parser\")\n",
        "reviews_whole=parsed_content.find_all(\"div\",{\"class\":\"text_content\"})\n",
        "flight_details_whole=parsed_content.find_all(\"table\",{\"class\":\"review-ratings\"})\n",
        "ratings_whole=parsed_content.find_all(\"span\",{\"class\":\"star fill\"})"
      ],
      "metadata": {
        "id": "KvgdSlKsyreP"
      },
      "execution_count": null,
      "outputs": []
    },
    {
      "cell_type": "markdown",
      "source": [
        "Scraping Reviews"
      ],
      "metadata": {
        "id": "7Zs3nmq6kDtk"
      }
    },
    {
      "cell_type": "code",
      "execution_count": null,
      "metadata": {
        "colab": {
          "base_uri": "https://localhost:8080/"
        },
        "id": "BaUvbHpC-MT-",
        "outputId": "bb2673f0-2be8-4cf3-ceb7-10400c2859f2"
      },
      "outputs": [
        {
          "output_type": "stream",
          "name": "stdout",
          "text": [
            "Scrapping Page for Reviews\n",
            "-->1000 Total Reviews\n",
            "Scrapping Done\n"
          ]
        }
      ],
      "source": [
        "reviews=[]\n",
        "print(f\"Scrapping Page for Reviews\")\n",
        "for x in reviews_whole:\n",
        "  reviews.append(x.get_text())\n",
        "print(f\"-->{len(reviews)} Total Reviews\")\n",
        "print(f\"Scrapping Done\")"
      ]
    },
    {
      "cell_type": "markdown",
      "source": [
        "Scraping Flight Details"
      ],
      "metadata": {
        "id": "Fs_umMHXkG2b"
      }
    },
    {
      "cell_type": "code",
      "execution_count": null,
      "metadata": {
        "colab": {
          "base_uri": "https://localhost:8080/"
        },
        "id": "euLukEGY_4cp",
        "outputId": "8f3ebf23-a24c-46d5-94ab-0468b1d98d45"
      },
      "outputs": [
        {
          "output_type": "stream",
          "name": "stdout",
          "text": [
            "Scrapping Page for Flight Details\n",
            "Scrapping Done\n"
          ]
        }
      ],
      "source": [
        "flight_details=dict()\n",
        "print(f\"Scrapping Page for Flight Details\")\n",
        "for i,x in enumerate(flight_details_whole):\n",
        "   flight_details[i]=x.get_text()\n",
        "print(f\"Scrapping Done\")"
      ]
    },
    {
      "cell_type": "markdown",
      "source": [
        "Scraping Star Ratings"
      ],
      "metadata": {
        "id": "yJG1xqo1kUBM"
      }
    },
    {
      "cell_type": "code",
      "source": [
        "ratings=dict()\n",
        "pos=-1\n",
        "print(f\"Scrapping Page for Ratings\")\n",
        "for x in ratings_whole:\n",
        "  if x.get_text()=='1':\n",
        "    pos+=1\n",
        "    ratings[pos]=x.get_text()\n",
        "  else:\n",
        "    ratings[pos]+=x.get_text()\n",
        "print(f\"Scrapping Done\")"
      ],
      "metadata": {
        "colab": {
          "base_uri": "https://localhost:8080/"
        },
        "id": "ltQ8xVpctIZz",
        "outputId": "57e5c56e-853d-4b75-b04a-266fe15c427e"
      },
      "execution_count": null,
      "outputs": [
        {
          "output_type": "stream",
          "name": "stdout",
          "text": [
            "Scrapping Page for Ratings\n",
            "Scrapping Done\n"
          ]
        }
      ]
    },
    {
      "cell_type": "markdown",
      "source": [
        "Create a DataFrame to store scraped data"
      ],
      "metadata": {
        "id": "mThcfbe_kbrg"
      }
    },
    {
      "cell_type": "code",
      "execution_count": null,
      "metadata": {
        "id": "mPmByKOMNThv"
      },
      "outputs": [],
      "source": [
        "df=pd.DataFrame()\n",
        "df[\"Reviews\"]=reviews"
      ]
    },
    {
      "cell_type": "code",
      "execution_count": null,
      "metadata": {
        "id": "H-RIOuRPn5Rb"
      },
      "outputs": [],
      "source": [
        "column_list=[\"Aircraft\",\"Type Of Traveller\",\"Seat Type\",\"Route\",\"Date Flown\",\"Seat Comfort\",\"Cabin Staff Service\",\"Food & Beverages\",\"Inflight Entertainment\",\"Ground Service\",\"Wifi & Connectivity\",\"Value For Money\",\"Recommended\"]\n",
        "for x in column_list:\n",
        "  df[x]=None"
      ]
    },
    {
      "cell_type": "code",
      "source": [
        "text_column_list=[\"Aircraft\",\"Type Of Traveller\",\"Seat Type\",\"Route\",\"Date Flown\",\"Recommended\"]\n",
        "star_column_list=[\"Seat Comfort\",\"Cabin Staff Service\",\"Food & Beverages\",\"Inflight Entertainment\",\"Ground Service\",\"Wifi & Connectivity\",\"Value For Money\"]"
      ],
      "metadata": {
        "id": "u_T2hleprdTE"
      },
      "execution_count": null,
      "outputs": []
    },
    {
      "cell_type": "code",
      "execution_count": null,
      "metadata": {
        "id": "62t65UmXso6O"
      },
      "outputs": [],
      "source": [
        "for i,x in flight_details.items():\n",
        "  if i==0:\n",
        "    continue\n",
        "  else:\n",
        "    split_list=x.split(\"\\n\")\n",
        "    for y in text_column_list:\n",
        "      pattern=f\"{y}\"\n",
        "      for z in split_list:\n",
        "        if(re.match(pattern,z)):\n",
        "          temp=z.split(pattern)\n",
        "          df.at[i-1,y]=temp[1]"
      ]
    },
    {
      "cell_type": "code",
      "source": [
        "dfindex=0\n",
        "scoreindex=5\n",
        "for i,x in flight_details.items():\n",
        "  if i==0:\n",
        "    continue\n",
        "  else:\n",
        "    split_list=x.split(\"\\n\")\n",
        "    for y in star_column_list:\n",
        "      pattern=f\"{y}\"\n",
        "      for z in split_list:\n",
        "        if(re.match(pattern,z)):\n",
        "          temp=len(ratings[scoreindex])\n",
        "          df.at[dfindex,y]=temp\n",
        "          scoreindex+=1\n",
        "  dfindex+=1"
      ],
      "metadata": {
        "id": "r4_uw6-C1xIi"
      },
      "execution_count": null,
      "outputs": []
    },
    {
      "cell_type": "markdown",
      "source": [
        "Exporting DataFrame to a CSV File"
      ],
      "metadata": {
        "id": "ntuo6807kwjg"
      }
    },
    {
      "cell_type": "code",
      "source": [
        "df.to_csv(\"reviews.csv\")"
      ],
      "metadata": {
        "id": "i8K6SuI_0Uzi"
      },
      "execution_count": null,
      "outputs": []
    }
  ],
  "metadata": {
    "colab": {
      "provenance": []
    },
    "kernelspec": {
      "display_name": "Python 3",
      "name": "python3"
    },
    "language_info": {
      "name": "python"
    }
  },
  "nbformat": 4,
  "nbformat_minor": 0
}