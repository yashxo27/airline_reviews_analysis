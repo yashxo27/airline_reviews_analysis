{
  "nbformat": 4,
  "nbformat_minor": 0,
  "metadata": {
    "colab": {
      "provenance": []
    },
    "kernelspec": {
      "name": "python3",
      "display_name": "Python 3"
    },
    "language_info": {
      "name": "python"
    }
  },
  "cells": [
    {
      "cell_type": "markdown",
      "source": [
        "Libraries used for Data Cleaning:\n",
        "* Pandas\n",
        "* Matplotlib\n",
        "* Re"
      ],
      "metadata": {
        "id": "n8B7LN3HlVVC"
      }
    },
    {
      "cell_type": "code",
      "execution_count": null,
      "metadata": {
        "id": "rXlUtjwY4OxY"
      },
      "outputs": [],
      "source": [
        "import pandas as pd\n",
        "import matplotlib as plt\n",
        "import re"
      ]
    },
    {
      "cell_type": "markdown",
      "source": [
        "Importing Scraped data in DataFrame"
      ],
      "metadata": {
        "id": "yR2rK8ywliKJ"
      }
    },
    {
      "cell_type": "code",
      "source": [
        "df=pd.read_csv(\"reviews.csv\")\n",
        "df.drop(columns=[\"Unnamed: 0\"],inplace=True)"
      ],
      "metadata": {
        "id": "MaEcFkM744CX"
      },
      "execution_count": null,
      "outputs": []
    },
    {
      "cell_type": "markdown",
      "source": [
        "Cleaning Review of each datapoint"
      ],
      "metadata": {
        "id": "jnuiHtF-lr6J"
      }
    },
    {
      "cell_type": "code",
      "source": [
        "reviews=list(df[\"Reviews\"])\n",
        "\n",
        "for i,x in enumerate(reviews):\n",
        "  text=x.split(\"|\")\n",
        "  reviews[i]=text[1].strip()\n",
        "\n",
        "df[\"Reviews\"]=reviews"
      ],
      "metadata": {
        "id": "LYxjozRt5Gri"
      },
      "execution_count": null,
      "outputs": []
    },
    {
      "cell_type": "markdown",
      "source": [
        "Trimming all textual columns"
      ],
      "metadata": {
        "id": "FvN5WEA5mEWq"
      }
    },
    {
      "cell_type": "code",
      "source": [
        "collist=df.columns\n",
        "for x in collist:\n",
        "  if df[x].dtype==object:\n",
        "    specificlist=list(df[x])\n",
        "    for i,y in enumerate(specificlist):\n",
        "      if type(y)==str:\n",
        "        specificlist[i]=y.strip()\n",
        "    df[x]=specificlist"
      ],
      "metadata": {
        "id": "vWeVmLWUFVJ0"
      },
      "execution_count": null,
      "outputs": []
    },
    {
      "cell_type": "markdown",
      "source": [
        "Correcting invalid values in the \"Recommeneded\" Column and the replacing them with 0 and 1"
      ],
      "metadata": {
        "id": "0J_u44AdmKm8"
      }
    },
    {
      "cell_type": "code",
      "source": [
        "df[\"Recommended\"]=df[\"Recommended\"].replace({'no':0,'noClose':0,'yes':1,'yesClose':1})"
      ],
      "metadata": {
        "id": "bHPneYDVFAFh"
      },
      "execution_count": null,
      "outputs": []
    },
    {
      "cell_type": "markdown",
      "source": [
        "Understanding the Percentage of Null Values in each column"
      ],
      "metadata": {
        "id": "AB5gHTBFmZZ3"
      }
    },
    {
      "cell_type": "code",
      "source": [
        "null_dict=dict()\n",
        "collist=df.columns\n",
        "for x in collist:\n",
        "  m=100-(df[x].isnull().value_counts()[0]/10)\n",
        "  null_dict[x]=round(m,3)\n",
        "print(\"Percentage of Null Values\\n\")\n",
        "for x,y in null_dict.items():\n",
        "  print(f\"{x}: {y}\")"
      ],
      "metadata": {
        "colab": {
          "base_uri": "https://localhost:8080/"
        },
        "id": "0B0XUlF6KUhq",
        "outputId": "867fa871-e493-4de3-ed63-40e2cf9095f3"
      },
      "execution_count": null,
      "outputs": [
        {
          "output_type": "stream",
          "name": "stdout",
          "text": [
            "Percentage of Null Values\n",
            "\n",
            "Reviews: 0.0\n",
            "Aircraft: 46.7\n",
            "Type Of Traveller: 0.2\n",
            "Seat Type: 0.0\n",
            "Route: 0.3\n",
            "Date Flown: 0.0\n",
            "Seat Comfort: 8.7\n",
            "Cabin Staff Service: 9.4\n",
            "Food & Beverages: 21.8\n",
            "Inflight Entertainment: 47.9\n",
            "Ground Service: 5.7\n",
            "Wifi & Connectivity: 30.8\n",
            "Value For Money: 0.0\n",
            "Recommended: 0.0\n"
          ]
        }
      ]
    },
    {
      "cell_type": "markdown",
      "source": [
        "Dropping columns with significant amount of Null Value Percentage"
      ],
      "metadata": {
        "id": "8RaJ_ubSmhzU"
      }
    },
    {
      "cell_type": "code",
      "source": [
        "df.drop(columns=[\"Aircraft\",\"Food & Beverages\",\"Inflight Entertainment\",\"Wifi & Connectivity\"],inplace=True)"
      ],
      "metadata": {
        "id": "puOPn5vRPGUW"
      },
      "execution_count": null,
      "outputs": []
    },
    {
      "cell_type": "markdown",
      "source": [
        "Dropping any remaining Null Values"
      ],
      "metadata": {
        "id": "W7Zjv7hwmpuP"
      }
    },
    {
      "cell_type": "code",
      "source": [
        "df_cleaned=df.dropna()"
      ],
      "metadata": {
        "id": "DGZ99IMLP3Y9"
      },
      "execution_count": null,
      "outputs": []
    },
    {
      "cell_type": "markdown",
      "source": [
        "Splitting \"Route\" Column to \"From\" and \"Destination\" Columns"
      ],
      "metadata": {
        "id": "pNFzy69Omus5"
      }
    },
    {
      "cell_type": "code",
      "source": [
        "route=list(df_cleaned[\"Route\"])\n",
        "fromloc=[]\n",
        "destloc=[]\n",
        "for x in route:\n",
        "  xsplit=x.split(\" to \")\n",
        "  fromloc.append(xsplit[0])\n",
        "  if len(xsplit)==2:\n",
        "    destloc.append(xsplit[1])\n",
        "  else:\n",
        "    destloc.append(\"\")\n",
        "\n",
        "df_cleaned[\"From\"]=fromloc\n",
        "df_cleaned[\"Destination\"]=destloc"
      ],
      "metadata": {
        "colab": {
          "base_uri": "https://localhost:8080/"
        },
        "id": "KgK4IG1lM8oE",
        "outputId": "b9772957-6e0b-457f-c7df-da737ac55321"
      },
      "execution_count": null,
      "outputs": [
        {
          "output_type": "stream",
          "name": "stdout",
          "text": [
            "Istanbul via London\n",
            "London Singapore\n",
            "doha to londonDoha to London\n"
          ]
        }
      ]
    },
    {
      "cell_type": "markdown",
      "source": [
        "Exporting DataFrame to a CSV File"
      ],
      "metadata": {
        "id": "1qFwKR2Rm-rW"
      }
    },
    {
      "cell_type": "code",
      "source": [
        "df_cleaned.to_csv(\"data/cleaned_data.csv\")"
      ],
      "metadata": {
        "id": "unRoxdyOPrBm"
      },
      "execution_count": null,
      "outputs": []
    }
  ]
}